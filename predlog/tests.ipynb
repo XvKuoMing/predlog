{
 "cells": [
  {
   "cell_type": "code",
   "execution_count": 1,
   "id": "3c67ba21",
   "metadata": {},
   "outputs": [],
   "source": [
    "import unittest\n",
    "from engine.sequencers import DFA\n",
    "from engine.grammar import Parser, CParser\n",
    "from simpliciter import simplify"
   ]
  },
  {
   "cell_type": "code",
   "execution_count": 2,
   "id": "9559e9b9",
   "metadata": {},
   "outputs": [],
   "source": [
    "class DFAChecker(unittest.TestCase):\n",
    "    \n",
    "    def test_runs_as_sequence(self):\n",
    "        seq = DFA(['a', 'b', 'c'])\n",
    "        self.assertTrue(seq.match('abc'))\n",
    "    \n",
    "    def test_can_skip(self):\n",
    "        seq = DFA(['a', 'b?', 'c'])\n",
    "        self.assertTrue(seq.match('ac'))\n",
    "    \n",
    "    def test_can_repeat(self):\n",
    "        seq = DFA(['a', 'b+', 'c'])\n",
    "        self.assertTrue(seq.match('abbbbbbbbbc'))\n",
    "    \n",
    "    def test_can_skip_and_repeat(self):\n",
    "        seq = DFA(['a', 'b*', 'c'])\n",
    "        self.assertTrue(seq.match('ac') and seq.match('abbbbbbbbbbc'))\n",
    "    \n",
    "    def test_can_differentiate_duplicates(self):\n",
    "        seq = DFA(['a', 'b', 'a'])\n",
    "        self.assertTrue(not seq.match('aa') and seq.match('aba'))\n",
    "    \n",
    "    def test_can_dissimilate(self):\n",
    "        seq = DFA(['a', '[b,c]', 'a'])\n",
    "        self.assertTrue(seq.match('aba') and seq.match('aca'))\n",
    "    \n",
    "    def test_can_dissimilate_with_quantifiers(self):\n",
    "        seq = DFA(['[a,f]+', '[g,h]+', '[b,y]?'])\n",
    "        understand_as_combinations = (seq.match('aaaaaaagggggggy') and seq.match('ffffffffg')) \\\n",
    "                                                                   and seq.match('afafafafaffffffaah')\n",
    "        can_quantify_grouped = (seq.match('aaaagb') and seq.match('aaaghgh')) and not seq.match('aaaaaaby')\n",
    "        self.assertTrue(understand_as_combinations and can_quantify_grouped)"
   ]
  },
  {
   "cell_type": "code",
   "execution_count": 3,
   "id": "0525baa5",
   "metadata": {},
   "outputs": [],
   "source": [
    "class SimpliciterChecker(unittest.TestCase):\n",
    "    \n",
    "    def test_simple_sentence(self):\n",
    "        simplified = simplify('Я бегал по зеленной траве')\n",
    "        self.assertEqual(len(simplified), 1)\n",
    "    \n",
    "    def test_reversed_position(self):\n",
    "        simplified = simplify('Вскоре после восхода солнца пошел дождь и возникли тучи')\n",
    "        self.assertEqual(len(simplified), 2)\n",
    "    \n",
    "    def test_different_conjugation_cases(self):\n",
    "        simplified1 = simplify('Мальчик купил пельмени и пошёл домой, а девочка посмотрела в телефон и заплакала')\n",
    "        simplified2 = simplify('Я и Петя, и Ваня вышли во двор, а Коля остался дома')\n",
    "        verb_conj = len(simplified1)==2\n",
    "        noun_conj = len(simplified2)==2\n",
    "        self.assertTrue(verb_conj and noun_conj)\n",
    "    \n",
    "    def test_transgressive(self):\n",
    "        with_transgressive = simplify('Александр стоял у дома, куря сигарету')\n",
    "        self.assertEqual(len(with_transgressive), 1)\n",
    "    \n",
    "    def test_participle(self):\n",
    "        with_participle = simplify('Елка, стоявшая у стены, внезапно обвалилась, а мы пошли гулять')\n",
    "        self.assertEqual(len(with_participle), 2)\n",
    "    \n",
    "    def test_only_comma_and_no_subject_at_the_tart(self):\n",
    "        simplified = simplify('Было холодно, падал снег')\n",
    "        self.assertEqual(len(simplified), 2)"
   ]
  },
  {
   "cell_type": "code",
   "execution_count": 4,
   "id": "014e8d05",
   "metadata": {},
   "outputs": [
    {
     "name": "stderr",
     "output_type": "stream",
     "text": [
      "test_can_differentiate_duplicates (__main__.DFAChecker) ... ok\n",
      "test_can_dissimilate (__main__.DFAChecker) ... ok\n",
      "test_can_dissimilate_with_quantifiers (__main__.DFAChecker) ... ok\n",
      "test_can_repeat (__main__.DFAChecker) ... ok\n",
      "test_can_skip (__main__.DFAChecker) ... ok\n",
      "test_can_skip_and_repeat (__main__.DFAChecker) ... ok\n",
      "test_runs_as_sequence (__main__.DFAChecker) ... ok\n",
      "test_different_conjugation_cases (__main__.SimpliciterChecker) ... ok\n",
      "test_only_comma_and_no_subject_at_the_tart (__main__.SimpliciterChecker) ... ok\n",
      "test_participle (__main__.SimpliciterChecker) ... ok\n",
      "test_reversed_position (__main__.SimpliciterChecker) ... ok\n",
      "test_simple_sentence (__main__.SimpliciterChecker) ... ok\n",
      "test_transgressive (__main__.SimpliciterChecker) ... ok\n",
      "\n",
      "----------------------------------------------------------------------\n",
      "Ran 13 tests in 0.321s\n",
      "\n",
      "OK\n"
     ]
    },
    {
     "data": {
      "text/plain": [
       "<unittest.main.TestProgram at 0x1ba96b7f4f0>"
      ]
     },
     "execution_count": 4,
     "metadata": {},
     "output_type": "execute_result"
    }
   ],
   "source": [
    "unittest.main(argv=[''], verbosity=2, exit=False)"
   ]
  }
 ],
 "metadata": {
  "kernelspec": {
   "display_name": "Python 3",
   "language": "python",
   "name": "python3"
  },
  "language_info": {
   "codemirror_mode": {
    "name": "ipython",
    "version": 3
   },
   "file_extension": ".py",
   "mimetype": "text/x-python",
   "name": "python",
   "nbconvert_exporter": "python",
   "pygments_lexer": "ipython3",
   "version": "3.8.8"
  }
 },
 "nbformat": 4,
 "nbformat_minor": 5
}
