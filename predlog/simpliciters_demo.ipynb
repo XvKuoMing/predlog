{
 "cells": [
  {
   "cell_type": "code",
   "execution_count": 2,
   "id": "2b3352fa",
   "metadata": {},
   "outputs": [],
   "source": [
    "from engine.grammar import Parser\n",
    "from razdel import tokenize\n",
    "from pymorphy2 import MorphAnalyzer\n",
    "morph = MorphAnalyzer()\n",
    "\n",
    "gramm = \"\"\"\n",
    "<CONJ> ::= CONJ | COMMA <CONJ>\n",
    "<S> ::= [nomn:NOUN,NPRO]+ | ADJF <S> \n",
    "<ASPECT> ::= [PREP,ADVB,ADJF]+ [NOUN,<S>] | <ASPECT> <CONJ> <ASPECT>\n",
    "<PARTICIPLE> ::= COMMA PRTF [ADVB,NOUN,<ASPECT>]+ COMMA? | PRTF \n",
    "<TRANSGRESSIVE> ::= COMMA GRND [ADVB,NOUN,<ASPECT>]+ COMMA? | GRND\n",
    "<S> ::= <S> [<PARTICIPLE>,<TRANSGRESSIVE>] | [<PARTICIPLE>,<TRANSGRESSIVE>] <S> | <S> <CONJ> <S>\n",
    "<VP> ::= [VERB,ADJS,INFN,PRTS,COMP]+ | [ADVB,NOUN,<ASPECT>,<PARTICIPLE>,<TRANSGRESSIVE>]+ <VP> \n",
    "<VP> ::= <VP> [ADVB,NOUN,<ASPECT>,<PARTICIPLE>,<TRANSGRESSIVE>]+ | <VP> <CONJ> <VP>\n",
    "\n",
    "<SEN> ::= [<VP>,<S>]+\n",
    "\n",
    "\"\"\"\n",
    "\n",
    "def precr(token):\n",
    "    if token == ',':\n",
    "        return 'COMMA'\n",
    "    t = morph.parse(token)[0].tag\n",
    "    if (t.POS == 'NOUN') and (t.case == 'nomn'):\n",
    "        return 'nomn:NOUN'\n",
    "    else:\n",
    "        return str(t.POS)\n",
    "\n",
    "\n",
    "grammatics = Parser(rules=gramm, \n",
    "                    tokenizer=lambda text: [token.text for token in tokenize(text)],\n",
    "                    preprocessor=precr)"
   ]
  },
  {
   "cell_type": "code",
   "execution_count": 3,
   "id": "12641987",
   "metadata": {},
   "outputs": [
    {
     "name": "stdout",
     "output_type": "stream",
     "text": [
      "Wall time: 13.6 ms\n"
     ]
    },
    {
     "data": {
      "text/plain": [
       "[Я вышел холодной осенью на улицу]"
      ]
     },
     "execution_count": 3,
     "metadata": {},
     "output_type": "execute_result"
    }
   ],
   "source": [
    "%%time\n",
    "\n",
    "tree = grammatics.parse('Я вышел холодной осенью на улицу')\n",
    "tree"
   ]
  },
  {
   "cell_type": "code",
   "execution_count": 4,
   "id": "88b1960f",
   "metadata": {},
   "outputs": [
    {
     "name": "stdout",
     "output_type": "stream",
     "text": [
      "          <SEN>                  \n",
      "            |                     \n",
      "                                 \n",
      "  __________|______               \n",
      " |                <VP>           \n",
      " |                 |              \n",
      " |                               \n",
      " |     ____________|________      \n",
      "<S>  <VP>       <ASPECT> <ASPECT>\n",
      " |    |            |        |     \n",
      " Я  вышел       холодной    на   \n",
      " |    |            |        |     \n",
      "...  ...         осенью   улицу  \n",
      "\n"
     ]
    }
   ],
   "source": [
    "tree[0].print_tree()"
   ]
  },
  {
   "cell_type": "code",
   "execution_count": 91,
   "id": "37b6090a",
   "metadata": {},
   "outputs": [
    {
     "name": "stdout",
     "output_type": "stream",
     "text": [
      "Wall time: 82.9 ms\n"
     ]
    },
    {
     "data": {
      "text/plain": [
       "[Мальчик купил пельмени и пошёл домой,\n",
       " , а,\n",
       " девочка посмотрела в телефон и заплакала]"
      ]
     },
     "execution_count": 91,
     "metadata": {},
     "output_type": "execute_result"
    }
   ],
   "source": [
    "%%time\n",
    "\n",
    "tree = grammatics.parse('Мальчик купил пельмени и пошёл домой, а девочка посмотрела в телефон и заплакала')\n",
    "tree"
   ]
  },
  {
   "cell_type": "code",
   "execution_count": 60,
   "id": "83f98659",
   "metadata": {},
   "outputs": [
    {
     "name": "stdout",
     "output_type": "stream",
     "text": [
      "                      <SEN>                        \n",
      "                        |                           \n",
      "                                                   \n",
      "    ____________________|_____                      \n",
      "   |                         <VP>                  \n",
      "   |                          |                     \n",
      "   |                                               \n",
      "   |               ___________|___________          \n",
      "   |             <VP>         |          <VP>      \n",
      "   |              |           |           |         \n",
      "   |                          |                    \n",
      "   |        ______|_____      |       ____|_____    \n",
      "  <S>      |           <VP> <CONJ>   |         <VP>\n",
      "   |       |            |     |      |          |   \n",
      "Мальчик    |          купил   и      |        пошёл\n",
      "   |       |            |     |      |          |   \n",
      "  ...   пельмени       ...   ...   домой       ... \n",
      "\n"
     ]
    }
   ],
   "source": [
    "tree[0].print_tree()"
   ]
  },
  {
   "cell_type": "code",
   "execution_count": 92,
   "id": "bf4a869e",
   "metadata": {},
   "outputs": [
    {
     "name": "stdout",
     "output_type": "stream",
     "text": [
      "Wall time: 50.1 ms\n"
     ]
    },
    {
     "data": {
      "text/plain": [
       "[Я и Петя , и Ваня вышли во двор, , а, Коля остался дома]"
      ]
     },
     "execution_count": 92,
     "metadata": {},
     "output_type": "execute_result"
    }
   ],
   "source": [
    "%%time\n",
    "\n",
    "tree = grammatics.parse('Я и Петя, и Ваня вышли во двор, а Коля остался дома')\n",
    "tree"
   ]
  },
  {
   "cell_type": "code",
   "execution_count": 62,
   "id": "c1215b11",
   "metadata": {},
   "outputs": [
    {
     "name": "stdout",
     "output_type": "stream",
     "text": [
      "                <SEN>                          \n",
      "                  |                             \n",
      "                                               \n",
      "             _____|________________             \n",
      "           <S>                     |           \n",
      "            |                      |            \n",
      "                                   |           \n",
      "       _____|___________           |            \n",
      "     <S>        <CONJ>  |         <VP>         \n",
      "      |           |     |          |            \n",
      "                  ,     |                      \n",
      "  ____|_____      |     |      ____|______      \n",
      "<S> <CONJ> <S>  <CONJ> <S>   <VP>      <ASPECT>\n",
      " |    |     |     |     |     |           |     \n",
      " Я    и    Петя   и    Ваня вышли         во   \n",
      " |    |     |     |     |     |           |     \n",
      "...  ...   ...   ...   ...   ...         двор  \n",
      "\n"
     ]
    }
   ],
   "source": [
    "tree[0].print_tree()"
   ]
  },
  {
   "cell_type": "code",
   "execution_count": 63,
   "id": "586a3c7c",
   "metadata": {},
   "outputs": [
    {
     "name": "stdout",
     "output_type": "stream",
     "text": [
      "     <SEN>             \n",
      "       |                \n",
      "                       \n",
      "  _____|____            \n",
      " |         <VP>        \n",
      " |          |           \n",
      " |                     \n",
      " |      ____|______     \n",
      "<S>    |          <VP> \n",
      " |     |           |    \n",
      "Коля   |        остался\n",
      " |     |           |    \n",
      "...   дома        ...  \n",
      "\n"
     ]
    }
   ],
   "source": [
    "tree[-1].print_tree()"
   ]
  },
  {
   "cell_type": "code",
   "execution_count": 93,
   "id": "ededb68d",
   "metadata": {},
   "outputs": [
    {
     "name": "stdout",
     "output_type": "stream",
     "text": [
      "Wall time: 20.4 ms\n"
     ]
    },
    {
     "data": {
      "text/plain": [
       "[Вскоре после восхода набежала туча, и, брызнул дождь]"
      ]
     },
     "execution_count": 93,
     "metadata": {},
     "output_type": "execute_result"
    }
   ],
   "source": [
    "%%time\n",
    "\n",
    "tree = grammatics.parse('Вскоре после восхода набежала туча и брызнул дождь')\n",
    "tree"
   ]
  },
  {
   "cell_type": "code",
   "execution_count": 68,
   "id": "65f03a21",
   "metadata": {},
   "outputs": [
    {
     "name": "stdout",
     "output_type": "stream",
     "text": [
      "                       <SEN>              \n",
      "                         |                 \n",
      "                                          \n",
      "                   ______|_____________    \n",
      "                 <VP>                  |  \n",
      "                  |                    |   \n",
      "                                       |  \n",
      "          ________|_____________       |   \n",
      "      <ASPECT>                 <VP>   <S> \n",
      "         |                      |      |   \n",
      "       Вскоре                набежала туча\n",
      "   ______|________              |      |   \n",
      "после          восхода         ...    ... \n",
      "\n"
     ]
    }
   ],
   "source": [
    "tree[0].print_tree()"
   ]
  },
  {
   "cell_type": "code",
   "execution_count": 94,
   "id": "a65f8232",
   "metadata": {},
   "outputs": [
    {
     "name": "stdout",
     "output_type": "stream",
     "text": [
      "Wall time: 3.16 ms\n"
     ]
    },
    {
     "data": {
      "text/plain": [
       "[Александр стоял у дома , куря сигарету]"
      ]
     },
     "execution_count": 94,
     "metadata": {},
     "output_type": "execute_result"
    }
   ],
   "source": [
    "%%time\n",
    "\n",
    "tree = grammatics.parse('Александр стоял у дома, куря сигарету')\n",
    "tree"
   ]
  },
  {
   "cell_type": "code",
   "execution_count": 95,
   "id": "d66c3956",
   "metadata": {},
   "outputs": [
    {
     "name": "stdout",
     "output_type": "stream",
     "text": [
      "          <SEN>                                       \n",
      "            |                                          \n",
      "                                                      \n",
      "     _______|______                                    \n",
      "    |             <VP>                                \n",
      "    |              |                                   \n",
      "    |                                                 \n",
      "    |        ______|_________________                  \n",
      "   <S>     <VP> <ASPECT>      <TRANSGRESSIVE>         \n",
      "    |       |      |                 |                 \n",
      "Александр стоял    у                 ,                \n",
      "    |       |      |       __________|___________      \n",
      "   ...     ...    дома   куря                 сигарету\n",
      "\n"
     ]
    }
   ],
   "source": [
    "tree[0].print_tree()"
   ]
  },
  {
   "cell_type": "code",
   "execution_count": 96,
   "id": "c8de3ea9",
   "metadata": {},
   "outputs": [
    {
     "name": "stdout",
     "output_type": "stream",
     "text": [
      "Wall time: 19.2 ms\n"
     ]
    },
    {
     "data": {
      "text/plain": [
       "[Было холодно, ',', падал снег]"
      ]
     },
     "execution_count": 96,
     "metadata": {},
     "output_type": "execute_result"
    }
   ],
   "source": [
    "%%time\n",
    "\n",
    "tree = grammatics.parse('Было холодно, падал снег')\n",
    "tree"
   ]
  },
  {
   "cell_type": "code",
   "execution_count": 5,
   "id": "6062a492",
   "metadata": {},
   "outputs": [],
   "source": [
    "simplify = lambda text: [unit for unit in grammatics.parse(text) \\\n",
    "                         if hasattr(unit, 'label') and (unit.label != '<CONJ>')]"
   ]
  },
  {
   "cell_type": "code",
   "execution_count": 6,
   "id": "b607175b",
   "metadata": {},
   "outputs": [
    {
     "name": "stdout",
     "output_type": "stream",
     "text": [
      "Wall time: 41.6 ms\n"
     ]
    },
    {
     "data": {
      "text/plain": [
       "[Было холодно, падал снег]"
      ]
     },
     "execution_count": 6,
     "metadata": {},
     "output_type": "execute_result"
    }
   ],
   "source": [
    "%%time\n",
    "\n",
    "simplify('Было холодно, падал снег')"
   ]
  },
  {
   "cell_type": "code",
   "execution_count": 8,
   "id": "eb8e9135",
   "metadata": {},
   "outputs": [
    {
     "data": {
      "text/plain": [
       "[Елка , стоявшая у стены , внезапно обвалилась, мы пошли гулять]"
      ]
     },
     "execution_count": 8,
     "metadata": {},
     "output_type": "execute_result"
    }
   ],
   "source": [
    "treebank = simplify('Елка, стоявшая у стены, внезапно обвалилась, и мы пошли гулять')\n",
    "treebank"
   ]
  },
  {
   "cell_type": "code",
   "execution_count": 12,
   "id": "824ba6f5",
   "metadata": {},
   "outputs": [
    {
     "name": "stdout",
     "output_type": "stream",
     "text": [
      "                     <SEN>                        \n",
      "                       |                           \n",
      "                                                  \n",
      "                _______|____________________       \n",
      "              <S>                           |     \n",
      "               |                            |      \n",
      "                                            |     \n",
      "  _____________|_______                     |      \n",
      " |                <PARTICIPLE>             <VP>   \n",
      " |                     |                    |      \n",
      " |                     ,                 внезапно \n",
      " |       ______________|__________          |      \n",
      "<S>     |              |       <ASPECT>    <VP>   \n",
      " |      |              |          |         |      \n",
      "Елка    |              |          у     обвалилась\n",
      " |      |              |          |         |      \n",
      "...  стоявшая          ,        стены      ...    \n",
      "\n"
     ]
    }
   ],
   "source": [
    "treebank[0].print_tree()"
   ]
  },
  {
   "cell_type": "code",
   "execution_count": 107,
   "id": "43c07dcf",
   "metadata": {},
   "outputs": [
    {
     "name": "stdout",
     "output_type": "stream",
     "text": [
      "Wall time: 30.6 ms\n"
     ]
    },
    {
     "data": {
      "text/plain": [
       "['Курящий дворник посмотрел на меня сердито', 'я испугался']"
      ]
     },
     "execution_count": 107,
     "metadata": {},
     "output_type": "execute_result"
    }
   ],
   "source": [
    "%%time\n",
    "\n",
    "simplify('Курящий дворник посмотрел на меня сердито, а я испугался')"
   ]
  }
 ],
 "metadata": {
  "kernelspec": {
   "display_name": "Python 3",
   "language": "python",
   "name": "python3"
  },
  "language_info": {
   "codemirror_mode": {
    "name": "ipython",
    "version": 3
   },
   "file_extension": ".py",
   "mimetype": "text/x-python",
   "name": "python",
   "nbconvert_exporter": "python",
   "pygments_lexer": "ipython3",
   "version": "3.8.8"
  }
 },
 "nbformat": 4,
 "nbformat_minor": 5
}
